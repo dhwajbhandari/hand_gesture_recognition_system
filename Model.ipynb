{
  "nbformat": 4,
  "nbformat_minor": 0,
  "metadata": {
    "colab": {
      "name": "Model.ipynb",
      "provenance": [],
      "collapsed_sections": []
    },
    "kernelspec": {
      "name": "python3",
      "display_name": "Python 3"
    },
    "language_info": {
      "name": "python"
    }
  },
  "cells": [
    {
      "cell_type": "code",
      "execution_count": 1,
      "metadata": {
        "colab": {
          "base_uri": "https://localhost:8080/",
          "height": 356
        },
        "id": "50oIUurK__1Z",
        "outputId": "b89372e3-b3d2-49a4-cf20-5a43c8ec3d53"
      },
      "outputs": [
        {
          "output_type": "error",
          "ename": "ModuleNotFoundError",
          "evalue": "ignored",
          "traceback": [
            "\u001b[0;31m---------------------------------------------------------------------------\u001b[0m",
            "\u001b[0;31mModuleNotFoundError\u001b[0m                       Traceback (most recent call last)",
            "\u001b[0;32m<ipython-input-1-b912ff34aa37>\u001b[0m in \u001b[0;36m<module>\u001b[0;34m\u001b[0m\n\u001b[0;32m----> 1\u001b[0;31m \u001b[0;32mfrom\u001b[0m \u001b[0mpyautogui\u001b[0m \u001b[0;32mimport\u001b[0m \u001b[0;34m*\u001b[0m\u001b[0;34m\u001b[0m\u001b[0;34m\u001b[0m\u001b[0m\n\u001b[0m\u001b[1;32m      2\u001b[0m \u001b[0;32mimport\u001b[0m \u001b[0mcv2\u001b[0m\u001b[0;34m\u001b[0m\u001b[0;34m\u001b[0m\u001b[0m\n\u001b[1;32m      3\u001b[0m \u001b[0;32mimport\u001b[0m \u001b[0mnumpy\u001b[0m \u001b[0;32mas\u001b[0m \u001b[0mnp\u001b[0m\u001b[0;34m\u001b[0m\u001b[0;34m\u001b[0m\u001b[0m\n\u001b[1;32m      4\u001b[0m \u001b[0;32mfrom\u001b[0m \u001b[0mtensorflow\u001b[0m \u001b[0;32mimport\u001b[0m \u001b[0mkeras\u001b[0m\u001b[0;34m\u001b[0m\u001b[0;34m\u001b[0m\u001b[0m\n",
            "\u001b[0;31mModuleNotFoundError\u001b[0m: No module named 'pyautogui'",
            "",
            "\u001b[0;31m---------------------------------------------------------------------------\u001b[0;32m\nNOTE: If your import is failing due to a missing package, you can\nmanually install dependencies using either !pip or !apt.\n\nTo view examples of installing some common dependencies, click the\n\"Open Examples\" button below.\n\u001b[0;31m---------------------------------------------------------------------------\u001b[0m\n"
          ],
          "errorDetails": {
            "actions": [
              {
                "action": "open_url",
                "actionText": "Open Examples",
                "url": "/notebooks/snippets/importing_libraries.ipynb"
              }
            ]
          }
        }
      ],
      "source": [
        "from pyautogui import *\n",
        "import cv2\n",
        "import numpy as np \n",
        "from tensorflow import keras"
      ]
    },
    {
      "cell_type": "code",
      "source": [
        "model = keras.models.load_model(\"withdropout.h5\")"
      ],
      "metadata": {
        "colab": {
          "base_uri": "https://localhost:8080/",
          "height": 165
        },
        "id": "l7b0aZewAI5u",
        "outputId": "b2e6a4ba-3c33-41db-b029-81094d23967d"
      },
      "execution_count": 2,
      "outputs": [
        {
          "output_type": "error",
          "ename": "NameError",
          "evalue": "ignored",
          "traceback": [
            "\u001b[0;31m---------------------------------------------------------------------------\u001b[0m",
            "\u001b[0;31mNameError\u001b[0m                                 Traceback (most recent call last)",
            "\u001b[0;32m<ipython-input-2-d7495dfa52a3>\u001b[0m in \u001b[0;36m<module>\u001b[0;34m\u001b[0m\n\u001b[0;32m----> 1\u001b[0;31m \u001b[0mmodel\u001b[0m \u001b[0;34m=\u001b[0m \u001b[0mkeras\u001b[0m\u001b[0;34m.\u001b[0m\u001b[0mmodels\u001b[0m\u001b[0;34m.\u001b[0m\u001b[0mload_model\u001b[0m\u001b[0;34m(\u001b[0m\u001b[0;34m\"withdropout.h5\"\u001b[0m\u001b[0;34m)\u001b[0m\u001b[0;34m\u001b[0m\u001b[0;34m\u001b[0m\u001b[0m\n\u001b[0m",
            "\u001b[0;31mNameError\u001b[0m: name 'keras' is not defined"
          ]
        }
      ]
    },
    {
      "cell_type": "code",
      "source": [
        "def getMask(roi, fgbg):\n",
        "    fgmask=fgbg.apply(roi,learningRate=0)\n",
        "    kernel=np.ones((5,5),np.uint8)\n",
        "    morphopen=cv2.morphologyEx(fgmask,cv2.MORPH_OPEN,kernel)\n",
        "    morphclose=cv2.morphologyEx(morphopen,cv2.MORPH_CLOSE,kernel)\n",
        "    ret,thresh=cv2.threshold(morphclose,0,255,cv2.THRESH_BINARY+cv2.THRESH_OTSU)\n",
        "    return thresh\n",
        "\n",
        "def main():\n",
        "    cap=cv2.VideoCapture(0)\n",
        "    mfound=False\n",
        "    command = \"stationary1\"\n",
        "    gestures = [\"up\",\"right\",\"down\",\"select\",\"stationary1\",\"stationary2\"] # withdown.h5 deepernnwithoutleft.h5\n",
        "    marker  = [0,0]\n",
        "    selection = \"Password : \"\n",
        "    back_end = [[1,2,3],[4,5,6],[7,8,9],[\"Stop\",0,\"Back\"]]\n",
        "    templist=[0,0,0,0,0,0,0,0,0,0]\n",
        "    new_command='stationary1'\n",
        "\n",
        "    while(True):\n",
        "        ret, frame = cap.read()\n",
        "        roi=frame[150:400,450:620]\n",
        "        cv2.rectangle(frame, (450,150), (620,400), (255,255,255))\n",
        "\n",
        "        if mfound:\n",
        "            mask=getMask(roi, fgbg)\n",
        "            mask = cv2.GaussianBlur(mask, (3,3), 20)\n",
        "            cv2.imshow(\"mask\", mask)\n",
        "            target = np.stack((mask,) * 3, axis=-1)\n",
        "            target = target.reshape(1, 250, 170, 3)\n",
        "            prediction=model.predict_classes(target)    \n",
        "            for p in range(1,len(templist)):\n",
        "                templist[p-1]=templist[p]\n",
        "                templist[len(templist)-1]=prediction[0]\n",
        "            if templist[0]==templist[1]==templist[2]==templist[3]==templist[4]==templist[5]==templist[6]==templist[7]==templist[8]==templist[9]:\n",
        "                 new_command = gestures[prediction[0]]\n",
        "\n",
        "            if command == new_command:\n",
        "                pass\n",
        "            else: \n",
        "                command = new_command\n",
        "                if command ==\"up\":\n",
        "                    press('up')\n",
        "                elif command ==\"down\":\n",
        "                    press('down')\n",
        "                elif command == \"right\":\n",
        "                    press('right')\n",
        "                elif command ==\"select\":\n",
        "                    press('enter')\n",
        "                elif command==\"left\":\n",
        "                    press('left')\n",
        "            cv2.putText(frame, command, (0,300), cv2.FONT_HERSHEY_COMPLEX, 1, (0,255,255), 2)\n",
        "        cv2.imshow(\"frame\", frame)\n",
        "\n",
        "        inp=cv2.waitKey(50)\n",
        "        if inp==27:\n",
        "            cap.release()\n",
        "            cv2.destroyAllWindows()\n",
        "            break\n",
        "        elif inp==ord('a'):\n",
        "            fgbg=cv2.createBackgroundSubtractorMOG2(0,50)\n",
        "            mfound=True\n",
        "            \n",
        "main()"
      ],
      "metadata": {
        "id": "M3sn4p7LAfff"
      },
      "execution_count": null,
      "outputs": []
    }
  ]
}